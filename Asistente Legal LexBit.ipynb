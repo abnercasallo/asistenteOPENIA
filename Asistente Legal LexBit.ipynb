{
 "cells": [
  {
   "cell_type": "code",
   "execution_count": 36,
   "id": "41835c36",
   "metadata": {},
   "outputs": [
    {
     "name": "stdout",
     "output_type": "stream",
     "text": [
      "OpenAI version is compatible.\n"
     ]
    }
   ],
   "source": [
    "import openai\n",
    "from packaging import version\n",
    "\n",
    "required_version = version.parse(\"1.1.1\")\n",
    "current_version = version.parse(openai.__version__)\n",
    "\n",
    "if current_version < required_version:\n",
    "    raise ValueError(f\"Error: OpenAI version {openai.__version__}\"\n",
    "                     \" is less than the required version 1.1.1\")\n",
    "else:\n",
    "    print(\"OpenAI version is compatible.\")\n",
    "\n",
    "# -- Now we can get to it\n",
    "from openai import OpenAI\n",
    "client = OpenAI(api_key=\"\") ##Colocar API Key, buscar en: https://platform.openai.com/api-keys "
   ]
  },
  {
   "cell_type": "code",
   "execution_count": 37,
   "id": "ebc8c294",
   "metadata": {},
   "outputs": [],
   "source": [
    "asistente= client.beta.assistants.create(\n",
    "    name=\"Asistente LexBit\",\n",
    "    instructions=\"Eres un asistente que resume correos con contenido legal\",\n",
    "    tools=[{\"type\": \"code_interpreter\"}],\n",
    "    model=\"gpt-3.5-turbo\" #gpt-4-turbo-preview\n",
    ")\n"
   ]
  },
  {
   "cell_type": "code",
   "execution_count": 38,
   "id": "c0a653f3",
   "metadata": {},
   "outputs": [
    {
     "name": "stdout",
     "output_type": "stream",
     "text": [
      "Thread(id='thread_BULKXo87mcHtQ8U0smlggrjO', created_at=1710127128, metadata={}, object='thread')\n"
     ]
    }
   ],
   "source": [
    "# Iniciar una conversación\n",
    "hilo= client.beta.threads.create()\n",
    "\n",
    "print(hilo)"
   ]
  },
  {
   "cell_type": "code",
   "execution_count": 39,
   "id": "99896175",
   "metadata": {},
   "outputs": [],
   "source": [
    "##Crear correo\n",
    "correo = \"\"\"\n",
    "Asunto: Notificación de Incumplimiento de Contrato \n",
    "\n",
    "Estimado/a Sr./Sra. García,\n",
    "\n",
    "Por la presente, queremos informarle que hemos detectado un presunto incumplimiento del contrato suscrito el 15 de enero de 2024 entre ACME Corp. y XYZ Solutions. Según lo establecido en el contrato en cuestión, específicamente en la cláusula 4, usted se comprometió a entregar los productos solicitados antes del 1 de marzo de 2024. Sin embargo, hasta la fecha de hoy, no hemos recibido ninguna evidencia o cumplimiento de dicha obligación por su parte.\n",
    "\n",
    "Le instamos a que tome medidas inmediatas para remediar esta situación y cumplir con los términos acordados en el contrato. En caso de no recibir una respuesta satisfactoria dentro de los próximos 5 días hábiles, nos reservamos el derecho de emprender acciones legales para proteger nuestros intereses y hacer cumplir el contrato.\n",
    "\n",
    "Agradecemos su pronta atención a este asunto y quedamos a la espera de su respuesta.\n",
    "\n",
    "Atentamente,\n",
    "\n",
    "Juan Pérez \n",
    "Gerente de Logística \n",
    "ACME Corp. \n",
    "Teléfono: +123456789 \n",
    "Correo electrónico: jperez@acmecorp.com\n",
    "\"\"\"\n",
    "\n",
    "\n",
    "\n"
   ]
  },
  {
   "cell_type": "code",
   "execution_count": 40,
   "id": "63f78cd6",
   "metadata": {},
   "outputs": [
    {
     "name": "stdout",
     "output_type": "stream",
     "text": [
      "ThreadMessage(id='msg_reaDCbW2Hdr2XgPJd7zty5oF', assistant_id=None, content=[MessageContentText(text=Text(annotations=[], value='\\nAsunto: Notificación de Incumplimiento de Contrato \\n\\nEstimado/a Sr./Sra. García,\\n\\nPor la presente, queremos informarle que hemos detectado un presunto incumplimiento del contrato suscrito el 15 de enero de 2024 entre ACME Corp. y XYZ Solutions. Según lo establecido en el contrato en cuestión, específicamente en la cláusula 4, usted se comprometió a entregar los productos solicitados antes del 1 de marzo de 2024. Sin embargo, hasta la fecha de hoy, no hemos recibido ninguna evidencia o cumplimiento de dicha obligación por su parte.\\n\\nLe instamos a que tome medidas inmediatas para remediar esta situación y cumplir con los términos acordados en el contrato. En caso de no recibir una respuesta satisfactoria dentro de los próximos 5 días hábiles, nos reservamos el derecho de emprender acciones legales para proteger nuestros intereses y hacer cumplir el contrato.\\n\\nAgradecemos su pronta atención a este asunto y quedamos a la espera de su respuesta.\\n\\nAtentamente,\\n\\nJuan Pérez \\nGerente de Logística \\nACME Corp. \\nTeléfono: +123456789 \\nCorreo electrónico: jperez@acmecorp.com\\n'), type='text')], created_at=1710127048, file_ids=[], metadata={}, object='thread.message', role='user', run_id=None, thread_id='thread_IMLu77gveyJ8GrBwvQ2GWWOi')\n"
     ]
    }
   ],
   "source": [
    "print(message)"
   ]
  },
  {
   "cell_type": "code",
   "execution_count": 41,
   "id": "2908096e",
   "metadata": {},
   "outputs": [],
   "source": [
    "message = client.beta.threads.messages.create(\n",
    "    thread_id=hilo.id,\n",
    "    role=\"user\",\n",
    "    content=correo\n",
    ")\n"
   ]
  },
  {
   "cell_type": "code",
   "execution_count": 42,
   "id": "a888e103",
   "metadata": {},
   "outputs": [],
   "source": [
    "run = client.beta.threads.runs.create(\n",
    "  thread_id=hilo.id,\n",
    "  assistant_id=assistant.id,\n",
    "  ##instructions=\"\"\n",
    ")"
   ]
  },
  {
   "cell_type": "code",
   "execution_count": 43,
   "id": "47bbbaa9",
   "metadata": {},
   "outputs": [
    {
     "name": "stdout",
     "output_type": "stream",
     "text": [
      "Run(id='run_XO2bP2SxaZ20Ttj9B2r0v3Sx', assistant_id='asst_zCMSDXaul1rgLD6vapnhpjEC', cancelled_at=None, completed_at=None, created_at=1710127145, expires_at=1710127745, failed_at=None, file_ids=[], instructions='Eres un asistente que resume correos con contenido legal', last_error=None, metadata={}, model='gpt-3.5-turbo', object='thread.run', required_action=None, started_at=None, status='queued', thread_id='thread_BULKXo87mcHtQ8U0smlggrjO', tools=[ToolAssistantToolsCode(type='code_interpreter')], usage=None)\n"
     ]
    }
   ],
   "source": [
    "print(run)"
   ]
  },
  {
   "cell_type": "code",
   "execution_count": 44,
   "id": "30863802",
   "metadata": {},
   "outputs": [],
   "source": [
    "run = client.beta.threads.runs.retrieve(\n",
    "  thread_id=hilo.id,\n",
    "  run_id=run.id\n",
    ")"
   ]
  },
  {
   "cell_type": "code",
   "execution_count": 45,
   "id": "fb786951",
   "metadata": {},
   "outputs": [],
   "source": [
    "messages = client.beta.threads.messages.list(\n",
    "  thread_id=hilo.id\n",
    ")"
   ]
  },
  {
   "cell_type": "code",
   "execution_count": 46,
   "id": "e907ab44",
   "metadata": {},
   "outputs": [
    {
     "name": "stdout",
     "output_type": "stream",
     "text": [
      "SyncCursorPage[ThreadMessage](data=[ThreadMessage(id='msg_M85THL2Qd7U6tBE9bIro4fAc', assistant_id='asst_zCMSDXaul1rgLD6vapnhpjEC', content=[MessageContentText(text=Text(annotations=[], value='Resumen del correo:\\n- Se notifica al Sr./Sra. García sobre un presunto incumplimiento del contrato firmado el 15 de enero de 2024 entre ACME Corp. y XYZ Solutions.\\n- Se menciona que en la cláusula 4 del contrato se estableció que los productos solicitados debían ser entregados antes del 1 de marzo de 2024, pero hasta la fecha no se ha recibido evidencia de cumplimiento.\\n- Se solicita al destinatario tomar medidas inmediatas para cumplir con los términos del contrato.\\n- Se advierte que, de no recibir una respuesta satisfactoria en los próximos 5 días hábiles, se podrían emprender acciones legales para hacer valer el contrato y proteger los intereses de ACME Corp.\\n- El remitente finaliza agradeciendo la pronta atención y quedando a la espera de una respuesta.\\n\\nRemitente:\\nJuan Pérez\\nGerente de Logística\\nACME Corp.\\nTeléfono: +123456789\\nCorreo electrónico: jperez@acmecorp.com'), type='text')], created_at=1710127146, file_ids=[], metadata={}, object='thread.message', role='assistant', run_id='run_XO2bP2SxaZ20Ttj9B2r0v3Sx', thread_id='thread_BULKXo87mcHtQ8U0smlggrjO'), ThreadMessage(id='msg_3mPdAWytBfDp9CZznnOksBPg', assistant_id=None, content=[MessageContentText(text=Text(annotations=[], value='\\nAsunto: Notificación de Incumplimiento de Contrato \\n\\nEstimado/a Sr./Sra. García,\\n\\nPor la presente, queremos informarle que hemos detectado un presunto incumplimiento del contrato suscrito el 15 de enero de 2024 entre ACME Corp. y XYZ Solutions. Según lo establecido en el contrato en cuestión, específicamente en la cláusula 4, usted se comprometió a entregar los productos solicitados antes del 1 de marzo de 2024. Sin embargo, hasta la fecha de hoy, no hemos recibido ninguna evidencia o cumplimiento de dicha obligación por su parte.\\n\\nLe instamos a que tome medidas inmediatas para remediar esta situación y cumplir con los términos acordados en el contrato. En caso de no recibir una respuesta satisfactoria dentro de los próximos 5 días hábiles, nos reservamos el derecho de emprender acciones legales para proteger nuestros intereses y hacer cumplir el contrato.\\n\\nAgradecemos su pronta atención a este asunto y quedamos a la espera de su respuesta.\\n\\nAtentamente,\\n\\nJuan Pérez \\nGerente de Logística \\nACME Corp. \\nTeléfono: +123456789 \\nCorreo electrónico: jperez@acmecorp.com\\n'), type='text')], created_at=1710127141, file_ids=[], metadata={}, object='thread.message', role='user', run_id=None, thread_id='thread_BULKXo87mcHtQ8U0smlggrjO')], object='list', first_id='msg_M85THL2Qd7U6tBE9bIro4fAc', last_id='msg_3mPdAWytBfDp9CZznnOksBPg', has_more=False)\n"
     ]
    }
   ],
   "source": [
    "print(messages)"
   ]
  },
  {
   "cell_type": "code",
   "execution_count": 47,
   "id": "5e9422bf",
   "metadata": {},
   "outputs": [
    {
     "name": "stdout",
     "output_type": "stream",
     "text": [
      "user:\n",
      "Asunto: Notificación de Incumplimiento de Contrato \n",
      "\n",
      "Estimado/a Sr./Sra. García,\n",
      "\n",
      "Por la presente, queremos informarle que hemos detectado un presunto incumplimiento del contrato suscrito el 15 de enero de 2024 entre ACME Corp. y XYZ Solutions. Según lo establecido en el contrato en cuestión, específicamente en la cláusula 4, usted se comprometió a entregar los productos solicitados antes del 1 de marzo de 2024. Sin embargo, hasta la fecha de hoy, no hemos recibido ninguna evidencia o cumplimiento de dicha obligación por su parte.\n",
      "\n",
      "Le instamos a que tome medidas inmediatas para remediar esta situación y cumplir con los términos acordados en el contrato. En caso de no recibir una respuesta satisfactoria dentro de los próximos 5 días hábiles, nos reservamos el derecho de emprender acciones legales para proteger nuestros intereses y hacer cumplir el contrato.\n",
      "\n",
      "Agradecemos su pronta atención a este asunto y quedamos a la espera de su respuesta.\n",
      "\n",
      "Atentamente,\n",
      "\n",
      "Juan Pérez \n",
      "Gerente de Logística \n",
      "ACME Corp. \n",
      "Teléfono: +123456789 \n",
      "Correo electrónico: jperez@acmecorp.com\n",
      "\n",
      "assistant:Resumen del correo:\n",
      "- Se notifica al Sr./Sra. García sobre un presunto incumplimiento del contrato firmado el 15 de enero de 2024 entre ACME Corp. y XYZ Solutions.\n",
      "- Se menciona que en la cláusula 4 del contrato se estableció que los productos solicitados debían ser entregados antes del 1 de marzo de 2024, pero hasta la fecha no se ha recibido evidencia de cumplimiento.\n",
      "- Se solicita al destinatario tomar medidas inmediatas para cumplir con los términos del contrato.\n",
      "- Se advierte que, de no recibir una respuesta satisfactoria en los próximos 5 días hábiles, se podrían emprender acciones legales para hacer valer el contrato y proteger los intereses de ACME Corp.\n",
      "- El remitente finaliza agradeciendo la pronta atención y quedando a la espera de una respuesta.\n",
      "\n",
      "Remitente:\n",
      "Juan Pérez\n",
      "Gerente de Logística\n",
      "ACME Corp.\n",
      "Teléfono: +123456789\n",
      "Correo electrónico: jperez@acmecorp.com\n"
     ]
    }
   ],
   "source": [
    "for i in reversed(messages.data):\n",
    "    print(i.role +\":\"+ i.content[0].text.value)"
   ]
  },
  {
   "cell_type": "code",
   "execution_count": 52,
   "id": "fab546d9",
   "metadata": {},
   "outputs": [
    {
     "name": "stdout",
     "output_type": "stream",
     "text": [
      "Resumen del correo:\n",
      "- Se notifica al Sr./Sra. García sobre un presunto incumplimiento del contrato firmado el 15 de enero de 2024 entre ACME Corp. y XYZ Solutions.\n",
      "- Se menciona que en la cláusula 4 del contrato se estableció que los productos solicitados debían ser entregados antes del 1 de marzo de 2024, pero hasta la fecha no se ha recibido evidencia de cumplimiento.\n",
      "- Se solicita al destinatario tomar medidas inmediatas para cumplir con los términos del contrato.\n",
      "- Se advierte que, de no recibir una respuesta satisfactoria en los próximos 5 días hábiles, se podrían emprender acciones legales para hacer valer el contrato y proteger los intereses de ACME Corp.\n",
      "- El remitente finaliza agradeciendo la pronta atención y quedando a la espera de una respuesta.\n",
      "\n",
      "Remitente:\n",
      "Juan Pérez\n",
      "Gerente de Logística\n",
      "ACME Corp.\n",
      "Teléfono: +123456789\n",
      "Correo electrónico: jperez@acmecorp.com\n"
     ]
    }
   ],
   "source": [
    "print(messages.data[0].content[0].text.value)"
   ]
  },
  {
   "cell_type": "code",
   "execution_count": null,
   "id": "d5f2815d",
   "metadata": {},
   "outputs": [],
   "source": []
  }
 ],
 "metadata": {
  "kernelspec": {
   "display_name": "Python 3 (ipykernel)",
   "language": "python",
   "name": "python3"
  },
  "language_info": {
   "codemirror_mode": {
    "name": "ipython",
    "version": 3
   },
   "file_extension": ".py",
   "mimetype": "text/x-python",
   "name": "python",
   "nbconvert_exporter": "python",
   "pygments_lexer": "ipython3",
   "version": "3.11.5"
  }
 },
 "nbformat": 4,
 "nbformat_minor": 5
}
